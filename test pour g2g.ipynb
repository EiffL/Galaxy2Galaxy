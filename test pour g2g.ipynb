{
 "cells": [
  {
   "cell_type": "code",
   "execution_count": 1,
   "metadata": {},
   "outputs": [
    {
     "name": "stdout",
     "output_type": "stream",
     "text": [
      "Populating the interactive namespace from numpy and matplotlib\n"
     ]
    },
    {
     "name": "stderr",
     "output_type": "stream",
     "text": [
      "/opt/anaconda3/envs/G2G2/lib/python3.7/site-packages/unagi/plotting.py:30: MatplotlibDeprecationWarning: You are modifying the state of a globally registered colormap. In future versions, you will not be able to modify a registered colormap in-place. To remove this warning, you can make a copy of the colormap first. cmap = copy.copy(mpl.cm.get_cmap(\"viridis\"))\n",
      "  IMG_CMAP.set_bad(color='black')\n"
     ]
    }
   ],
   "source": [
    "\n",
    "\n",
    "%pylab inline\n",
    "from galaxy2galaxy import problems\n",
    "from astropy.visualization import make_lupton_rgb\n",
    "import tensorflow as tf\n",
    "Modes = tf.estimator.ModeKeys"
   ]
  },
  {
   "cell_type": "code",
   "execution_count": 2,
   "metadata": {},
   "outputs": [
    {
     "data": {
      "text/plain": [
       "['attrs2img_cosmos',\n",
       " 'attrs2img_cosmos128',\n",
       " 'attrs2img_cosmos128_euclid',\n",
       " 'attrs2img_cosmos32',\n",
       " 'attrs2img_cosmos_psf_euclide',\n",
       " 'img2img_cosmos',\n",
       " 'img2img_cosmos128',\n",
       " 'img2img_cosmos32',\n",
       " 'img2img_cosmos_hsc',\n",
       " 'img2img_hsc',\n",
       " 'img2img_hsc_anomaly',\n",
       " 'img2img_hsc_anomaly_small',\n",
       " 'img2photoz_hsc']"
      ]
     },
     "execution_count": 2,
     "metadata": {},
     "output_type": "execute_result"
    }
   ],
   "source": [
    "# To list the problems currently available in G2G\n",
    "problems.available()\n",
    "\n"
   ]
  },
  {
   "cell_type": "code",
   "execution_count": 3,
   "metadata": {},
   "outputs": [],
   "source": [
    "\n",
    "\n",
    "# Let's create an instance of the hsc_problem\n",
    "problem128 = problems.problem('attrs2img_cosmos_psf_euclide')"
   ]
  },
  {
   "cell_type": "code",
   "execution_count": null,
   "metadata": {},
   "outputs": [],
   "source": [
    "def wiener_tf(image, psf, balance):\n",
    "    trans_func = tf.signal.rfft2d(tf.signal.ifftshift(psf))\n",
    "    wiener_filter = tf.math.conj(trans_func) / (tf.dtypes.cast(tf.math.abs(trans_func),'complex64') ** 2 + balance)\n",
    "    deconv = tf.signal.irfft2d(wiener_filter * tf.signal.rfft2d(image),fft_length=image.shape)\n",
    "    deconv = tf.keras.backend.clip(deconv, -1, 1)\n",
    "\n",
    "    return deconv\n",
    "\n",
    "def tikhonov_tf(img, psf, tau):\n",
    "    if len(img.shape) == 2:\n",
    "        return(wiener_tf(img, psf, tau))\n",
    "    tikho_list = []\n",
    "    for i in range(img.shape[0]):\n",
    "        deconvolved = wiener_tf(img[i], psf[i], tau[i])\n",
    "        tikho_list += [deconvolved]\n",
    "    return tikho_list"
   ]
  },
  {
   "cell_type": "code",
   "execution_count": 4,
   "metadata": {},
   "outputs": [
    {
     "name": "stdout",
     "output_type": "stream",
     "text": [
      "WARNING:tensorflow:From /opt/anaconda3/envs/G2G2/lib/python3.7/site-packages/tensor2tensor/data_generators/problem.py:651: The name tf.logging.info is deprecated. Please use tf.compat.v1.logging.info instead.\n",
      "\n",
      "INFO:tensorflow:Reading data files from /Users/hk263532/Documents/galaxy2galaxy/data/attrs2img_cosmos_psf_euclide/attrs2img_cosmos_psf_euclide-train*\n",
      "INFO:tensorflow:partition: 0 num_data_files: 1\n",
      "WARNING:tensorflow:From /opt/anaconda3/envs/G2G2/lib/python3.7/site-packages/tensor2tensor/data_generators/problem.py:687: parallel_interleave (from tensorflow.python.data.experimental.ops.interleave_ops) is deprecated and will be removed in a future version.\n",
      "Instructions for updating:\n",
      "Use `tf.data.Dataset.interleave(map_func, cycle_length, block_length, num_parallel_calls=tf.data.experimental.AUTOTUNE)` instead. If sloppy execution is desired, use `tf.data.Options.experimental_determinstic`.\n",
      "WARNING:tensorflow:From /Users/hk263532/Documents/galaxy2galaxy/galaxy2galaxy/data_generators/galsim_utils.py:75: The name tf.FixedLenFeature is deprecated. Please use tf.io.FixedLenFeature instead.\n",
      "\n",
      "WARNING:tensorflow:\n",
      "The TensorFlow contrib module will not be included in TensorFlow 2.0.\n",
      "For more information, please see:\n",
      "  * https://github.com/tensorflow/community/blob/master/rfcs/20180907-contrib-sunset.md\n",
      "  * https://github.com/tensorflow/addons\n",
      "  * https://github.com/tensorflow/io (for I/O related ops)\n",
      "If you depend on functionality not listed there, please file an issue.\n",
      "\n"
     ]
    }
   ],
   "source": [
    "dset = problem128.dataset(Modes.TRAIN, data_dir='/sparseastro/Euclid/ShapeDeconv/attrs2img_cosmos_psf_euclide')\n",
    "dset2 = problem128.dataset(Modes.TRAIN, data_dir='/sparseastro/Euclid/ShapeDeconv/attrs2img_cosmos_psf_euclide')\n",
    "#from tensorflow.compat.v1.spectral import irfft2d\n",
    "def pre_proc_unet(dico):\n",
    "    print(dico['inputs'].shape)\n",
    "    print(dico['psf'].shape)\n",
    "    dico['psf'] = tf.signal.irfft2d(tf.cast(dico['psf'], complex64)[...,0])\n",
    "    print(dico['psf'].shape)\n",
    "    dico['psf'] = tf.signal.fftshift(dico['psf'])\n",
    "    dico['inputs'] = wiener_tf(tf.compat.v1.image.resize_image_with_pad(dico['inputs'], 128, 128)[...,0], dico['psf'], 0.05)\n",
    "    dico['psf'] = tf.expand_dims(dico['psf'], axis=-1)\n",
    "    dico['inputs'] = tf.expand_dims(dico['inputs'], axis=-1)\n",
    "    dico['inputs'] = tf.image.crop_to_bounding_box(dico['inputs'],33,33, 64,64)\n",
    "    print(dico['psf'].shape)\n",
    "    print(dico['inputs'].shape)\n",
    "    return dico\n",
    "dset = dset.map(pre_proc_unet)\n",
    "\n",
    "dset2 = dset2.batch(1)\n",
    "dset = dset.batch(1)\n"
   ]
  },
  {
   "cell_type": "code",
   "execution_count": 5,
   "metadata": {},
   "outputs": [
    {
     "data": {
      "text/plain": [
       "<DatasetV1Adapter shapes: {inputs: (?, 64, 64, 1), inputs2: (?, 64, 64, 1), ps: (?, 64, 33), ps2: (?, 64, 33), psf: (?, 128, 65, 1), psf2: (?, 128, 65, 1), targets: (?, 64, 64, 1)}, types: {inputs: tf.float32, inputs2: tf.float32, ps: tf.float32, ps2: tf.float32, psf: tf.float32, psf2: tf.float32, targets: tf.float32}>"
      ]
     },
     "execution_count": 5,
     "metadata": {},
     "output_type": "execute_result"
    }
   ],
   "source": [
    "dset"
   ]
  },
  {
   "cell_type": "code",
   "execution_count": 6,
   "metadata": {},
   "outputs": [
    {
     "name": "stdout",
     "output_type": "stream",
     "text": [
      "WARNING:tensorflow:From <ipython-input-6-91ef2c814408>:2: DatasetV1.make_one_shot_iterator (from tensorflow.python.data.ops.dataset_ops) is deprecated and will be removed in a future version.\n",
      "Instructions for updating:\n",
      "Use `for ... in dataset:` to iterate over a dataset. If using `tf.estimator`, return the `Dataset` object directly from your input function. As a last resort, you can use `tf.compat.v1.data.make_one_shot_iterator(dataset)`.\n"
     ]
    }
   ],
   "source": [
    "# Build an iterator over this dataset, and extract a batch\n",
    "it = dset.make_one_shot_iterator().get_next()\n",
    "it2 = dset2.make_one_shot_iterator().get_next()\n",
    "\n",
    "sess = tf.Session()\n",
    "batch = sess.run(it)\n",
    "batch2 = sess.run(it2)"
   ]
  },
  {
   "cell_type": "code",
   "execution_count": 7,
   "metadata": {},
   "outputs": [
    {
     "data": {
      "text/plain": [
       "tensorflow.python.framework.ops.Tensor"
      ]
     },
     "execution_count": 7,
     "metadata": {},
     "output_type": "execute_result"
    }
   ],
   "source": [
    "type(it['inputs'])\n",
    "#it.keys()"
   ]
  },
  {
   "cell_type": "code",
   "execution_count": 8,
   "metadata": {},
   "outputs": [
    {
     "ename": "IndexError",
     "evalue": "index 1 is out of bounds for axis 0 with size 1",
     "output_type": "error",
     "traceback": [
      "\u001b[0;31m---------------------------------------------------------------------------\u001b[0m",
      "\u001b[0;31mIndexError\u001b[0m                                Traceback (most recent call last)",
      "\u001b[0;32m<ipython-input-8-534d8a2fa3aa>\u001b[0m in \u001b[0;36m<module>\u001b[0;34m\u001b[0m\n\u001b[1;32m      2\u001b[0m \u001b[0;32mfor\u001b[0m \u001b[0mi\u001b[0m \u001b[0;32min\u001b[0m \u001b[0mrange\u001b[0m\u001b[0;34m(\u001b[0m\u001b[0;36m25\u001b[0m\u001b[0;34m)\u001b[0m\u001b[0;34m:\u001b[0m\u001b[0;34m\u001b[0m\u001b[0;34m\u001b[0m\u001b[0m\n\u001b[1;32m      3\u001b[0m     \u001b[0msubplot\u001b[0m\u001b[0;34m(\u001b[0m\u001b[0;36m5\u001b[0m\u001b[0;34m,\u001b[0m\u001b[0;36m5\u001b[0m\u001b[0;34m,\u001b[0m\u001b[0mi\u001b[0m\u001b[0;34m+\u001b[0m\u001b[0;36m1\u001b[0m\u001b[0;34m)\u001b[0m\u001b[0;34m\u001b[0m\u001b[0;34m\u001b[0m\u001b[0m\n\u001b[0;32m----> 4\u001b[0;31m     \u001b[0mimshow\u001b[0m\u001b[0;34m(\u001b[0m\u001b[0mbatch\u001b[0m\u001b[0;34m[\u001b[0m\u001b[0;34m'inputs'\u001b[0m\u001b[0;34m]\u001b[0m\u001b[0;34m[\u001b[0m\u001b[0mi\u001b[0m\u001b[0;34m]\u001b[0m\u001b[0;34m)\u001b[0m\u001b[0;34m\u001b[0m\u001b[0;34m\u001b[0m\u001b[0m\n\u001b[0m\u001b[1;32m      5\u001b[0m     \u001b[0maxis\u001b[0m\u001b[0;34m(\u001b[0m\u001b[0;34m'off'\u001b[0m\u001b[0;34m)\u001b[0m\u001b[0;34m\u001b[0m\u001b[0;34m\u001b[0m\u001b[0m\n\u001b[1;32m      6\u001b[0m \u001b[0;34m\u001b[0m\u001b[0m\n",
      "\u001b[0;31mIndexError\u001b[0m: index 1 is out of bounds for axis 0 with size 1"
     ]
    },
    {
     "data": {
      "image/png": "[encoded data removed]",
      "text/plain": [
       "<Figure size 720x720 with 2 Axes>"
      ]
     },
     "metadata": {
      "needs_background": "light"
     },
     "output_type": "display_data"
    }
   ],
   "source": [
    "\n",
    "\n",
    "figure(figsize=(10,10))\n",
    "for i in range(1):\n",
    "    subplot(141)\n",
    "    imshow(batch2['inputs'][i])\n",
    "    subplot(142)\n",
    "    imshow(batch['inputs2'][i])\n",
    "    subplot(143)\n",
    "    imshow(batch['inputs'][i])\n",
    "    subplot(144)\n",
    "    imshow(batch['psf'][i])\n",
    "    axis('off')\n",
    "    \n",
    "figure(figsize=(10,10))\n",
    "imshow(batch['inputs'][0])\n",
    "\n"
   ]
  },
  {
   "cell_type": "markdown",
   "metadata": {},
   "source": [
    "## Test de raccordement avec le UNet"
   ]
  },
  {
   "cell_type": "code",
   "execution_count": null,
   "metadata": {},
   "outputs": [
    {
     "name": "stdout",
     "output_type": "stream",
     "text": [
      "WARNING:tensorflow:From /opt/anaconda3/envs/G2G2/lib/python3.7/site-packages/tensorflow_core/python/ops/resource_variable_ops.py:1630: calling BaseResourceVariable.__init__ (from tensorflow.python.ops.resource_variable_ops) with constraint is deprecated and will be removed in a future version.\n",
      "Instructions for updating:\n",
      "If using Keras pass *_constraint arguments to layers.\n",
      "chat\n",
      "chien\n",
      "ours\n",
      "Train on 1 steps\n"
     ]
    }
   ],
   "source": [
    "def DenseBlock(n_layers, n_kernels, input_layer, activation_function='swish',\n",
    "                                            axis_concat=3, concat_input=True,dilation_rate=1):\n",
    "    #concat_input: implies that we have a skip concatenation between input and output of block\n",
    "    connect_input = input_layer\n",
    "    for n in range(n_layers):\n",
    "        bn = tf.keras.layers.BatchNormalization()(connect_input)\n",
    "        act = tf.keras.layers.Activation(activation_function)(bn)\n",
    "        conv = tf.keras.layers.SeparableConv2D(n_kernels, 3, padding='same', use_bias=False,\n",
    "                                        kernel_initializer='he_uniform')(act)\n",
    "        if n == 0:\n",
    "            concat = conv\n",
    "        else:\n",
    "            concat = tf.keras.layers.Concatenate(axis = axis_concat)([concat, conv])\n",
    "        connect_input = concat\n",
    "    if concat_input:\n",
    "        return tf.keras.layers.Concatenate(axis = axis_concat)([input_layer, concat])\n",
    "    return concat\n",
    "\n",
    "# Define the modified U-net\n",
    "img_rows = img_cols = 64\n",
    "nb_scales = 4\n",
    "growth_rate = 12\n",
    "nb_layers_per_block = [4,5,6,7]\n",
    "activation_function= 'relu'\n",
    "gamma=1\n",
    "\n",
    "\n",
    "inputs = tf.keras.Input(shape=(64,64,1), name=\"inputs\")\n",
    "targets = tf.keras.Input(shape=(64,64,1), name=\"inputs2\")\n",
    "\n",
    "#INPUT CONV\n",
    "net = tf.keras.layers.Conv2D(32, 3, padding='same', use_bias=False, kernel_initializer='he_uniform')(inputs)\n",
    "\n",
    "#CONTRACTING PATH\n",
    "skip_connect = []\n",
    "\n",
    "for scale in range(nb_scales-1):\n",
    "    block = DenseBlock(n_layers=nb_layers_per_block[scale],\n",
    "                   n_kernels=growth_rate,\n",
    "                   input_layer=net,\n",
    "                   activation_function=activation_function,\n",
    "                   concat_input=True)\n",
    "    skip_connect.append(block)\n",
    "    batch_norm = tf.keras.layers.BatchNormalization()(block)\n",
    "    activation = tf.keras.layers.Activation(activation_function)(batch_norm)\n",
    "    conv_transi = tf.keras.layers.Conv2D(32+np.sum(nb_layers_per_block[:scale+1])*growth_rate, 1, \n",
    "                         padding='same', use_bias=False, kernel_initializer='he_uniform')(activation)\n",
    "    net = tf.keras.layers.AveragePooling2D(pool_size=(2, 2), strides=(2, 2), padding='same')(conv_transi)\n",
    "\n",
    "#BOTTLENECK\n",
    "block = DenseBlock(n_layers=nb_layers_per_block[-1],\n",
    "                   n_kernels=growth_rate,\n",
    "                   input_layer=net,\n",
    "                   activation_function=activation_function,\n",
    "                   concat_input=False)\n",
    "\n",
    "\n",
    "#EXPANSIVE PATH\n",
    "for scale in range(nb_scales-2, -1, -1):   \n",
    "    up = tf.keras.layers.Conv2D(nb_layers_per_block[scale+1]*growth_rate, 2, activation = activation_function,\n",
    "             padding = 'same', kernel_initializer = 'he_normal')(tf.keras.layers.UpSampling2D(size = (2,2))(block))\n",
    "    net = tf.keras.layers.Concatenate(axis = 3)([up, skip_connect[scale]])\n",
    "    block = DenseBlock(n_layers=nb_layers_per_block[scale],\n",
    "                   n_kernels=growth_rate,\n",
    "                   input_layer=net,\n",
    "                   activation_function=activation_function,\n",
    "                   concat_input=False)\n",
    "\n",
    "#FUSION AND SKIP CONNECT\n",
    "print(\"chat\")\n",
    "batch_norm = tf.keras.layers.BatchNormalization()(block)\n",
    "activation = tf.keras.layers.Activation(activation_function)(batch_norm)\n",
    "outputs = tf.keras.layers.Conv2D(1, 1, activation = 'linear')(activation)\n",
    "print(\"chien\")\n",
    "\n",
    "model = tf.keras.Model(inputs=[inputs, targets], outputs=outputs)\n",
    "model.compile(optimizer = tf.keras.optimizers.Adam(lr=1e-3), loss = 'mse', metrics=['accuracy'])\n",
    "print(\"ours\")\n",
    "history = model.fit(dset, steps_per_epoch=1,epochs=1, max_queue_size=1, shuffle= False)"
   ]
  },
  {
   "cell_type": "code",
   "execution_count": 2,
   "metadata": {},
   "outputs": [
    {
     "name": "stdout",
     "output_type": "stream",
     "text": [
      "Object `tf.keras.fit` not found.\n"
     ]
    }
   ],
   "source": []
  },
  {
   "cell_type": "code",
   "execution_count": null,
   "metadata": {},
   "outputs": [],
   "source": []
  },
  {
   "cell_type": "code",
   "execution_count": null,
   "metadata": {},
   "outputs": [],
   "source": []
  },
  {
   "cell_type": "code",
   "execution_count": null,
   "metadata": {},
   "outputs": [],
   "source": []
  }
 ],
 "metadata": {
  "kernelspec": {
   "display_name": "Python 3",
   "language": "python",
   "name": "python3"
  },
  "language_info": {
   "codemirror_mode": {
    "name": "ipython",
    "version": 3
   },
   "file_extension": ".py",
   "mimetype": "text/x-python",
   "name": "python",
   "nbconvert_exporter": "python",
   "pygments_lexer": "ipython3",
   "version": "3.7.6"
  }
 },
 "nbformat": 4,
 "nbformat_minor": 4
}
