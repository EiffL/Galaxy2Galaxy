{
 "cells": [
  {
   "cell_type": "markdown",
   "metadata": {},
   "source": [
    "# Appropriation du code d'optimisation avec contrainte de forme\n"
   ]
  },
  {
   "cell_type": "code",
   "execution_count": 16,
   "metadata": {},
   "outputs": [],
   "source": [
    "# Importing necessary packages\n",
    "from score import score\n",
    "import numpy as np\n",
    "import matplotlib.pyplot as plt\n",
    "%matplotlib inline"
   ]
  },
  {
   "cell_type": "markdown",
   "metadata": {},
   "source": [
    "# Débruitage des images observées pour gamma = 0,5"
   ]
  },
  {
   "cell_type": "code",
   "execution_count": 29,
   "metadata": {},
   "outputs": [
    {
     "name": "stdout",
     "output_type": "stream",
     "text": [
      "Running restoration...\n",
      "RESTORATION PROCESS DONE\n",
      "Running diagnostic...\n",
      "starlets generation         2.00000\n",
      "beta                        0.10266\n",
      "k                           4.00000\n",
      "gamma                       0.50000\n",
      "RIP                         0.00000\n",
      "relative pixel MSE          0.09569\n",
      "relative ellipticity error  0.39255\n",
      "# of iterations             40.00000\n",
      "total # of iterations       40.00000\n",
      "Running restoration...\n",
      "RESTORATION PROCESS DONE\n",
      "Running diagnostic...\n",
      "starlets generation         2.00000\n",
      "beta                        0.10266\n",
      "k                           4.00000\n",
      "gamma                       0.50000\n",
      "RIP                         0.00000\n",
      "relative pixel MSE          0.15228\n",
      "relative ellipticity error  0.21404\n",
      "# of iterations             40.00000\n",
      "total # of iterations       40.00000\n",
      "Running restoration...\n",
      "RESTORATION PROCESS DONE\n",
      "Running diagnostic...\n",
      "starlets generation         2.00000\n",
      "beta                        0.10266\n",
      "k                           4.00000\n",
      "gamma                       0.50000\n",
      "RIP                         0.00000\n",
      "relative pixel MSE          0.05253\n",
      "relative ellipticity error  0.04789\n",
      "# of iterations             40.00000\n",
      "total # of iterations       40.00000\n",
      "Running restoration...\n",
      "RESTORATION PROCESS DONE\n",
      "Running diagnostic...\n",
      "starlets generation         2.00000\n",
      "beta                        0.10266\n",
      "k                           4.00000\n",
      "gamma                       0.50000\n",
      "RIP                         0.00000\n",
      "relative pixel MSE          0.11688\n",
      "relative ellipticity error  0.29507\n",
      "# of iterations             40.00000\n",
      "total # of iterations       40.00000\n",
      "Running restoration...\n",
      "RESTORATION PROCESS DONE\n",
      "Running diagnostic...\n",
      "starlets generation         2.00000\n",
      "beta                        0.10266\n",
      "k                           4.00000\n",
      "gamma                       0.50000\n",
      "RIP                         0.00000\n",
      "relative pixel MSE          0.08387\n",
      "relative ellipticity error  0.13419\n",
      "# of iterations             40.00000\n",
      "total # of iterations       40.00000\n"
     ]
    }
   ],
   "source": [
    "gamma = 0.5\n",
    "\n",
    "# Chargement des images observées\n",
    "gals_obs = np.load(\"/Users/hk263532/Documents/score-master/examples/observed_galaxies.npy\")\n",
    "gals_truth = np.load(\"/Users/hk263532/Documents/score-master/examples/true_galaxies.npy\")\n",
    "\n",
    "# Liste des images débruitées avec l'algorithme\n",
    "solution_list = list()\n",
    "for obs, truth in zip(gals_obs,gals_truth):\n",
    "    denoiser = score(gamma = gamma)\n",
    "    denoiser.denoise(obs=obs,ground_truth = truth)\n",
    "    solution_list.append(denoiser)\n"
   ]
  },
  {
   "cell_type": "code",
   "execution_count": 34,
   "metadata": {},
   "outputs": [],
   "source": [
    "# Liste des différences d'ellipticité\n",
    "ell_error = [sol.ell_solution - sol.ell_ground_truth for sol in solution_list]"
   ]
  },
  {
   "cell_type": "code",
   "execution_count": 38,
   "metadata": {},
   "outputs": [
    {
     "data": {
      "image/png": "[encoded data removed]",
      "text/plain": [
       "<Figure size 432x288 with 1 Axes>"
      ]
     },
     "metadata": {
      "needs_background": "light"
     },
     "output_type": "display_data"
    }
   ],
   "source": [
    "x = [ell[0] for ell in ell_error]\n",
    "y = [ell[1] for ell in ell_error]\n",
    "\n",
    "plt.plot(x,y,'bo')\n",
    "plt.tight_layout()\n",
    "plt.xlabel('$ê1-e1$', fontsize=20)\n",
    "plt.ylabel('$ê2-e2$', fontsize=20)\n",
    "plt.show()"
   ]
  },
  {
   "cell_type": "code",
   "execution_count": 43,
   "metadata": {},
   "outputs": [
    {
     "name": "stdout",
     "output_type": "stream",
     "text": [
      "La moyenne de l'erreur quadratique moyenne sur les 5 images est 0.0005372763316028056\n"
     ]
    }
   ],
   "source": [
    "mse_list = [((sol.solution - sol.ground_truth)**2).mean() for sol in solution_list]\n",
    "def list_mean(l):\n",
    "    return sum(l)/len(l)\n",
    "\n",
    "print(\"La moyenne de l'erreur quadratique moyenne sur les 5 images est {}\".format(list_mean(mse_list)))"
   ]
  },
  {
   "cell_type": "code",
   "execution_count": 44,
   "metadata": {},
   "outputs": [
    {
     "name": "stdout",
     "output_type": "stream",
     "text": [
      "La moyenne de l'erreur d'ellipticité sur les 5 images est 0.035175112521537356\n"
     ]
    }
   ],
   "source": [
    "ell_list = [(x**2).mean() for x in ell_error]\n",
    "\n",
    "print(\"La moyenne de l'erreur quadratique d'ellipticité sur les 5 images est {}\".format(list_mean(ell_list)))"
   ]
  },
  {
   "cell_type": "markdown",
   "metadata": {},
   "source": [
    "# Déconvolution pour deux valeurs de gamma:\n",
    "\n",
    "1) gamma = 1"
   ]
  },
  {
   "cell_type": "code",
   "execution_count": 60,
   "metadata": {},
   "outputs": [
    {
     "name": "stderr",
     "output_type": "stream",
     "text": [
      "/Users/hk263532/Documents/score-master/cadmos_lib.py:104: ComplexWarning: Casting complex values to real discards the imaginary part\n",
      "  coeff[s] = trafo.adjoint_transform(temp, do_norm=False)\n"
     ]
    },
    {
     "name": "stdout",
     "output_type": "stream",
     "text": [
      "Running restoration...\n",
      "RESTORATION PROCESS DONE\n",
      "Running diagnostic...\n",
      "starlets generation         2.00000\n",
      "beta                        0.13623\n",
      "k                           4.00000\n",
      "gamma                       1.00000\n",
      "RIP                         0.00000\n",
      "tolerance                   0.00000\n",
      "halt criterion              0.00000\n",
      "relative pixel MSE          0.02697\n",
      "relative ellipticity error  0.35251\n",
      "# of iterations             150.00000\n",
      "total # of iterations       150.00000\n",
      "Running restoration...\n",
      "RESTORATION PROCESS DONE\n",
      "Running diagnostic...\n",
      "starlets generation         2.00000\n",
      "beta                        0.13613\n",
      "k                           4.00000\n",
      "gamma                       1.00000\n",
      "RIP                         0.00000\n",
      "tolerance                   0.00000\n",
      "halt criterion              0.00000\n",
      "relative pixel MSE          0.04309\n",
      "relative ellipticity error  0.09248\n",
      "# of iterations             150.00000\n",
      "total # of iterations       150.00000\n",
      "Running restoration...\n",
      "RESTORATION PROCESS DONE\n",
      "Running diagnostic...\n",
      "starlets generation         2.00000\n",
      "beta                        0.13442\n",
      "k                           4.00000\n",
      "gamma                       1.00000\n",
      "RIP                         0.00000\n",
      "tolerance                   0.00000\n",
      "halt criterion              0.00000\n",
      "relative pixel MSE          0.03200\n",
      "relative ellipticity error  0.01366\n",
      "# of iterations             150.00000\n",
      "total # of iterations       150.00000\n",
      "Running restoration...\n",
      "RESTORATION PROCESS DONE\n",
      "Running diagnostic...\n",
      "starlets generation         2.00000\n",
      "beta                        0.13378\n",
      "k                           4.00000\n",
      "gamma                       1.00000\n",
      "RIP                         0.00000\n",
      "tolerance                   0.00000\n",
      "halt criterion              0.00000\n",
      "relative pixel MSE          0.08461\n",
      "relative ellipticity error  0.16938\n",
      "# of iterations             150.00000\n",
      "total # of iterations       150.00000\n",
      "Running restoration...\n",
      "RESTORATION PROCESS DONE\n",
      "Running diagnostic...\n",
      "starlets generation         2.00000\n",
      "beta                        0.13400\n",
      "k                           4.00000\n",
      "gamma                       1.00000\n",
      "RIP                         0.00000\n",
      "tolerance                   0.00000\n",
      "halt criterion              0.00000\n",
      "relative pixel MSE          0.06168\n",
      "relative ellipticity error  0.06332\n",
      "# of iterations             150.00000\n",
      "total # of iterations       150.00000\n"
     ]
    }
   ],
   "source": [
    "# Chargement des données de psf\n",
    "gals_psf = np.load(\"/Users/hk263532/Documents/score-master/examples/psfs.npy\")\n",
    "\n",
    "gamma = 1\n",
    "\n",
    "# Liste des images débruitées avec l'algorithme\n",
    "solution_deconv_list = list()\n",
    "for obs, psf, truth in zip(gals_obs,gals_psf,gals_truth):\n",
    "    deconvolver = score(gamma = gamma)\n",
    "    deconvolver.deconvolve(obs=obs,ground_truth = truth, psf = psf)\n",
    "    solution_deconv_list.append(deconvolver)"
   ]
  },
  {
   "cell_type": "code",
   "execution_count": 61,
   "metadata": {},
   "outputs": [],
   "source": [
    "# Liste des différences d'ellipticité\n",
    "ell_error = [sol.ell_solution - sol.ell_ground_truth for sol in solution_deconv_list]"
   ]
  },
  {
   "cell_type": "code",
   "execution_count": 62,
   "metadata": {},
   "outputs": [
    {
     "data": {
      "image/png": "[encoded data removed]",
      "text/plain": [
       "<Figure size 432x288 with 1 Axes>"
      ]
     },
     "metadata": {
      "needs_background": "light"
     },
     "output_type": "display_data"
    }
   ],
   "source": [
    "x = [ell[0] for ell in ell_error]\n",
    "y = [ell[1] for ell in ell_error]\n",
    "\n",
    "plt.plot(x,y,'bo')\n",
    "plt.tight_layout()\n",
    "plt.xlabel('$ê1-e1$', fontsize=20)\n",
    "plt.ylabel('$ê2-e2$', fontsize=20)\n",
    "plt.show()"
   ]
  },
  {
   "cell_type": "code",
   "execution_count": 63,
   "metadata": {},
   "outputs": [
    {
     "name": "stdout",
     "output_type": "stream",
     "text": [
      "La moyenne de l'erreur quadratique moyenne sur les 5 images est 0.00015284997231004065\n"
     ]
    }
   ],
   "source": [
    "mse_list = [((sol.solution - sol.ground_truth)**2).mean() for sol in solution_deconv_list]\n",
    "def list_mean(l):\n",
    "    return sum(l)/len(l)\n",
    "\n",
    "print(\"La moyenne de l'erreur quadratique moyenne sur les 5 images est {}\".format(list_mean(mse_list)))"
   ]
  },
  {
   "cell_type": "code",
   "execution_count": 64,
   "metadata": {},
   "outputs": [
    {
     "name": "stdout",
     "output_type": "stream",
     "text": [
      "La moyenne de l'erreur quadratique d'ellipticité sur les 5 images est 0.01970900588460674\n"
     ]
    }
   ],
   "source": [
    "ell_list = [(x**2).mean() for x in ell_error]\n",
    "\n",
    "print(\"La moyenne de l'erreur quadratique d'ellipticité sur les 5 images est {}\".format(list_mean(ell_list)))"
   ]
  },
  {
   "cell_type": "markdown",
   "metadata": {},
   "source": [
    "2) gamma = 20"
   ]
  },
  {
   "cell_type": "code",
   "execution_count": 65,
   "metadata": {},
   "outputs": [
    {
     "name": "stderr",
     "output_type": "stream",
     "text": [
      "/Users/hk263532/Documents/score-master/cadmos_lib.py:104: ComplexWarning: Casting complex values to real discards the imaginary part\n",
      "  coeff[s] = trafo.adjoint_transform(temp, do_norm=False)\n"
     ]
    },
    {
     "name": "stdout",
     "output_type": "stream",
     "text": [
      "Running restoration...\n",
      "RESTORATION PROCESS DONE\n",
      "Running diagnostic...\n",
      "starlets generation         2.00000\n",
      "beta                        0.00918\n",
      "k                           4.00000\n",
      "gamma                       20.00000\n",
      "RIP                         0.00000\n",
      "tolerance                   0.00000\n",
      "halt criterion              0.00000\n",
      "relative pixel MSE          0.02966\n",
      "relative ellipticity error  0.16520\n",
      "# of iterations             150.00000\n",
      "total # of iterations       150.00000\n",
      "Running restoration...\n",
      "RESTORATION PROCESS DONE\n",
      "Running diagnostic...\n",
      "starlets generation         2.00000\n",
      "beta                        0.00917\n",
      "k                           4.00000\n",
      "gamma                       20.00000\n",
      "RIP                         0.00000\n",
      "tolerance                   0.00000\n",
      "halt criterion              0.00000\n",
      "relative pixel MSE          0.09941\n",
      "relative ellipticity error  0.00934\n",
      "# of iterations             150.00000\n",
      "total # of iterations       150.00000\n",
      "Running restoration...\n",
      "RESTORATION PROCESS DONE\n",
      "Running diagnostic...\n",
      "starlets generation         2.00000\n",
      "beta                        0.00900\n",
      "k                           4.00000\n",
      "gamma                       20.00000\n",
      "RIP                         0.00000\n",
      "tolerance                   0.00000\n",
      "halt criterion              0.00000\n",
      "relative pixel MSE          0.03113\n",
      "relative ellipticity error  0.14476\n",
      "# of iterations             150.00000\n",
      "total # of iterations       150.00000\n",
      "Running restoration...\n",
      "RESTORATION PROCESS DONE\n",
      "Running diagnostic...\n",
      "starlets generation         2.00000\n",
      "beta                        0.00891\n",
      "k                           4.00000\n",
      "gamma                       20.00000\n",
      "RIP                         0.00000\n",
      "tolerance                   0.00000\n",
      "halt criterion              0.00000\n",
      "relative pixel MSE          0.04983\n",
      "relative ellipticity error  0.11272\n",
      "# of iterations             150.00000\n",
      "total # of iterations       150.00000\n",
      "Running restoration...\n",
      "RESTORATION PROCESS DONE\n",
      "Running diagnostic...\n",
      "starlets generation         2.00000\n",
      "beta                        0.00894\n",
      "k                           4.00000\n",
      "gamma                       20.00000\n",
      "RIP                         0.00000\n",
      "tolerance                   0.00000\n",
      "halt criterion              0.00000\n",
      "relative pixel MSE          0.07875\n",
      "relative ellipticity error  0.26642\n",
      "# of iterations             150.00000\n",
      "total # of iterations       150.00000\n"
     ]
    }
   ],
   "source": [
    "# Chargement des données de psf\n",
    "gals_psf = np.load(\"/Users/hk263532/Documents/score-master/examples/psfs.npy\")\n",
    "\n",
    "gamma = 20\n",
    "\n",
    "# Liste des images débruitées avec l'algorithme\n",
    "solution_deconv_list = list()\n",
    "for obs, psf, truth in zip(gals_obs,gals_psf,gals_truth):\n",
    "    deconvolver = score(gamma = gamma)\n",
    "    deconvolver.deconvolve(obs=obs,ground_truth = truth, psf = psf)\n",
    "    solution_deconv_list.append(deconvolver)"
   ]
  },
  {
   "cell_type": "code",
   "execution_count": 66,
   "metadata": {},
   "outputs": [],
   "source": [
    "# Liste des différences d'ellipticité\n",
    "ell_error = [sol.ell_solution - sol.ell_ground_truth for sol in solution_deconv_list]"
   ]
  },
  {
   "cell_type": "code",
   "execution_count": 67,
   "metadata": {},
   "outputs": [
    {
     "data": {
      "image/png": "[encoded data removed]",
      "text/plain": [
       "<Figure size 432x288 with 1 Axes>"
      ]
     },
     "metadata": {
      "needs_background": "light"
     },
     "output_type": "display_data"
    }
   ],
   "source": [
    "x = [ell[0] for ell in ell_error]\n",
    "y = [ell[1] for ell in ell_error]\n",
    "\n",
    "plt.plot(x,y,'bo')\n",
    "plt.tight_layout()\n",
    "plt.xlabel('$ê1-e1$', fontsize=20)\n",
    "plt.ylabel('$ê2-e2$', fontsize=20)\n",
    "plt.show()"
   ]
  },
  {
   "cell_type": "code",
   "execution_count": 68,
   "metadata": {},
   "outputs": [
    {
     "name": "stdout",
     "output_type": "stream",
     "text": [
      "La moyenne de l'erreur quadratique moyenne sur les 5 images est 0.00035084185016866665\n"
     ]
    }
   ],
   "source": [
    "mse_list = [((sol.solution - sol.ground_truth)**2).mean() for sol in solution_deconv_list]\n",
    "def list_mean(l):\n",
    "    return sum(l)/len(l)\n",
    "\n",
    "print(\"La moyenne de l'erreur quadratique moyenne sur les 5 images est {}\".format(list_mean(mse_list)))"
   ]
  },
  {
   "cell_type": "code",
   "execution_count": 69,
   "metadata": {},
   "outputs": [
    {
     "name": "stdout",
     "output_type": "stream",
     "text": [
      "La moyenne de l'erreur quadratique d'ellipticité sur les 5 images est 0.022255455600369393\n"
     ]
    }
   ],
   "source": [
    "ell_list = [(x**2).mean() for x in ell_error]\n",
    "\n",
    "print(\"La moyenne de l'erreur quadratique d'ellipticité sur les 5 images est {}\".format(list_mean(ell_list)))"
   ]
  },
  {
   "cell_type": "code",
   "execution_count": null,
   "metadata": {},
   "outputs": [],
   "source": []
  },
  {
   "cell_type": "code",
   "execution_count": null,
   "metadata": {},
   "outputs": [],
   "source": []
  },
  {
   "cell_type": "code",
   "execution_count": null,
   "metadata": {},
   "outputs": [],
   "source": []
  },
  {
   "cell_type": "code",
   "execution_count": null,
   "metadata": {},
   "outputs": [],
   "source": []
  },
  {
   "cell_type": "code",
   "execution_count": null,
   "metadata": {},
   "outputs": [],
   "source": []
  }
 ],
 "metadata": {
  "kernelspec": {
   "display_name": "Python 3",
   "language": "python",
   "name": "python3"
  },
  "language_info": {
   "codemirror_mode": {
    "name": "ipython",
    "version": 3
   },
   "file_extension": ".py",
   "mimetype": "text/x-python",
   "name": "python",
   "nbconvert_exporter": "python",
   "pygments_lexer": "ipython3",
   "version": "3.7.6"
  }
 },
 "nbformat": 4,
 "nbformat_minor": 4
}
